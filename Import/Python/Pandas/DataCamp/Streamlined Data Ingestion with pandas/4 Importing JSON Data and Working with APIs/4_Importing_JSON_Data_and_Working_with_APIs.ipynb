{
  "nbformat": 4,
  "nbformat_minor": 0,
  "metadata": {
    "colab": {
      "name": " 4 Importing JSON Data and Working with APIs.ipynb",
      "provenance": [],
      "authorship_tag": "ABX9TyMxN0iuojX8TsPiglu1rtll",
      "include_colab_link": true
    },
    "kernelspec": {
      "name": "python3",
      "display_name": "Python 3"
    },
    "language_info": {
      "name": "python"
    }
  },
  "cells": [
    {
      "cell_type": "markdown",
      "metadata": {
        "id": "view-in-github",
        "colab_type": "text"
      },
      "source": [
        "<a href=\"https://colab.research.google.com/github/villafue/Data/blob/main/Import/Python/Pandas/DataCamp/Streamlined%20Data%20Ingestion%20with%20pandas/4%20Importing%20JSON%20Data%20and%20Working%20with%20APIs/4_Importing_JSON_Data_and_Working_with_APIs.ipynb\" target=\"_parent\"><img src=\"https://colab.research.google.com/assets/colab-badge.svg\" alt=\"Open In Colab\"/></a>"
      ]
    },
    {
      "cell_type": "markdown",
      "metadata": {
        "id": "VtJGbCOJ9rnE"
      },
      "source": [
        "# Importing JSON Data and Working with APIs\n",
        "\n",
        "Learn how to work with JSON data and web APIs by exploring a public dataset and getting cafe recommendations from Yelp. End by learning some techniques to combine datasets once they have been loaded into data frames. \n"
      ]
    },
    {
      "cell_type": "markdown",
      "metadata": {
        "id": "_lcA3Mwy9rbQ"
      },
      "source": [
        "1. Introduction to JSON\n",
        "\n",
        "Until now, you've built pipelines to data in tabular formats. In this chapter, we'll shift our focus to data in Javascript Object Notation, or JSON, data.\n",
        "2. Javascript Object Notation (JSON)\n",
        "\n",
        "As the name implies, JSON is based on Javascript, but popular programming languages have versions of the data structures JSONs use, making them easy for programs to generate and parse while still being human-readable. And because of Javascript's role in web development, JSON is a common format for transmitting data through the web. Unlike data frames, JSON data is not tabular. This makes for more efficient data storage -- if a value doesn't exist for a record, the attribute can be omitted instead of storing it with a null value. In other words, records don't all have to have the same set of attributes. Instead, data is organized into collections of objects. Objects resemble Python dictionaries: they're enclosed in curly braces and contain attribute-value pairs. One last feature of JSONs is that they can be nested -- values themselves can be objects, or lists of objects.\n",
        "3. Reading JSON Data\n",
        "\n",
        "You can guess the pandas function to load a JSON into a data frame -- it's read JSON. Read JSON takes a string of the path to the JSON to load. This path can be to a file saved on a computer or a URL ending in dot JSON. Alternatively, you can supply JSON data directly as a string. As with flat files and spreadsheets, pandas guesses attribute data types, but you can specify them with a dictionary of column names and values and the dtype argument. JSON data can be laid out in various ways, so there is an orient keyword argument to flag uncommon layouts.\n",
        "4. Data Orientation\n",
        "\n",
        "Since JSON data isn't tabular, pandas makes assumptions about how it's arranged, or oriented, to load it into a data frame. pandas automatically detects record and column orientations, which you'll encounter most often. Let's see what they look like.\n",
        "5. Record Orientation\n",
        "\n",
        "A record-oriented JSON consists of a list of dictionaries, each translating to a table record. For example, this JSON of causes of death from New York City's open data site is record oriented.\n",
        "6. Column Orientation\n",
        "\n",
        "To reduce file size by not repeating attribute names, a JSON may be column-oriented. The entire JSON is a dictionary. Keys are column names. Values are lists of values for that column, or dictionaries of row indices and column values, like in this rearranged version of the death causes data.\n",
        "7. Specifying Orientation\n",
        "\n",
        "However, other orientations are possible. This version of the death data is split oriented, with different lists for column names, indices, and values. Let's load it to a data frame.\n",
        "8. Specifying Orientation\n",
        "\n",
        "We import pandas, then load the data with read JSON, specifying orientation by passing one of a set of documented string values to the orient keyword argument. When we print the data, it looks like it loaded correctly.\n",
        "9. Let's practice!\n",
        "\n",
        "And that's a quick introduction to JSON. We'll dive deeper in later lessons, but now, it's your turn to practice working with JSON data! "
      ]
    },
    {
      "cell_type": "markdown",
      "metadata": {
        "id": "0x1fxcT4-fFf"
      },
      "source": [
        "# Load JSON data\n",
        "\n",
        "Many open data portals make available JSONs datasets that are particularly easy to parse. They can be accessed directly via URL. Each object is a record, all objects have the same set of attributes, and none of the values are nested objects that themselves need to be parsed.\n",
        "\n",
        "The New York City Department of Homeless Services Daily Report is such a dataset, containing years' worth of homeless shelter population counts. You can view it in the console before loading it to a data frame with pandas's read_json() function.\n",
        "\n",
        "Instructions\n",
        "\n",
        "1. Get a sense of the contents of dhs_daily_report.json, which are printed in the console.\n",
        "\n",
        "2. Load pandas as pd.\n",
        "\n",
        "3. Use read_json() to load dhs_daily_report.json to a data frame, pop_in_shelters.\n",
        "\n",
        "4. View summary statistics about pop_in_shelters with the data frame's describe() method.\n"
      ]
    },
    {
      "cell_type": "code",
      "metadata": {
        "id": "-0bc3MKZ9nmm"
      },
      "source": [
        "# Load pandas as pd\n",
        "import pandas as pd\n",
        "\n",
        "# Load the daily report to a data frame\n",
        "pop_in_shelters = pd.read_json(\"dhs_daily_report.json\")\n",
        "\n",
        "# View summary stats about pop_in_shelters\n",
        "print(pop_in_shelters.describe())\n",
        "\n",
        "'''\n",
        "<script.py> output:\n",
        "           adult_families_in_shelter  adults_in_families_with_children_in_shelter  children_in_families_with_children_in_shelter  families_with_children_in_shelter  \\\n",
        "    count                1000.000000                                  1000.000000                                    1000.000000                         1000.00000   \n",
        "    mean                 2074.955000                                 16487.932000                                   23273.873000                        11588.83500   \n",
        "    std                   148.020238                                   848.363772                                     926.243984                          626.41371   \n",
        "    min                  1796.000000                                 14607.000000                                   21291.000000                        10261.00000   \n",
        "    25%                  1906.000000                                 15831.500000                                   22666.000000                        11060.00000   \n",
        "    50%                  2129.000000                                 16836.000000                                   23285.500000                        11743.00000   \n",
        "    75%                  2172.250000                                 17118.250000                                   23610.000000                        12146.00000   \n",
        "    max                  2356.000000                                 17733.000000                                   25490.000000                        12413.00000   \n",
        "    \n",
        "           individuals_in_adult_families_in_shelter  ...  total_adults_in_shelter  total_children_in_shelter  total_individuals_in_families_with_children_in_shelter_  total_individuals_in_shelter  \\\n",
        "    count                                1000.00000  ...              1000.000000                1000.000000                                        1000.000000                         1000.000000   \n",
        "    mean                                 4368.05400  ...             32328.857000               23273.882000                                       39761.805000                        55602.739000   \n",
        "    std                                   299.05424  ...              2150.583637                 926.247187                                        1677.972788                         2745.294235   \n",
        "    min                                  3811.00000  ...             28127.000000               21291.000000                                       35902.000000                        49462.000000   \n",
        "    25%                                  4026.00000  ...             30184.250000               22666.000000                                       38775.500000                        53196.500000   \n",
        "    50%                                  4473.00000  ...             33142.000000               23285.500000                                       40026.000000                        56713.500000   \n",
        "    75%                                  4567.00000  ...             33940.750000               23610.000000                                       40529.500000                        57872.250000   \n",
        "    max                                  4944.00000  ...             35294.000000               25490.000000                                       43208.000000                        59068.000000   \n",
        "    \n",
        "           total_single_adults_in_shelter  \n",
        "    count                      1000.00000  \n",
        "    mean                      11472.88000  \n",
        "    std                        1113.66412  \n",
        "    min                        9610.00000  \n",
        "    25%                       10381.75000  \n",
        "    50%                       11633.50000  \n",
        "    75%                       12437.50000  \n",
        "    max                       13270.00000  \n",
        "    \n",
        "    [8 rows x 12 columns]\n",
        "'''"
      ],
      "execution_count": null,
      "outputs": []
    },
    {
      "cell_type": "markdown",
      "metadata": {
        "id": "z-EXphz2_ljm"
      },
      "source": [
        "Conclusion\n",
        "\n",
        "When getting data from a URL, like with open data portals, be mindful of how much data is being pulled and how often you do it. Requesting lots of data can strain shared resources."
      ]
    },
    {
      "cell_type": "markdown",
      "metadata": {
        "id": "lKPXNS7K_5NK"
      },
      "source": [
        "# Work with JSON orientations\n",
        "\n",
        "JSON isn't a tabular format, so pandas makes assumptions about its orientation when loading data. Most JSON data you encounter will be in orientations that pandas can automatically transform into a data frame.\n",
        "\n",
        "Sometimes, like in this modified version of the Department of Homeless Services Daily Report, data is oriented differently. To reduce the file size, it has been split formatted. You'll see what happens when you try to load it normally versus with the orient keyword argument. The try/except block will alert you if there are errors loading the data.\n",
        "\n",
        "pandas has been loaded as pd.\n",
        "\n",
        "Instructions\n",
        "\n",
        "1. Try loading dhs_report_reformatted.json without any keyword arguments."
      ]
    },
    {
      "cell_type": "code",
      "metadata": {
        "id": "qNiAO_YJAdBP"
      },
      "source": [
        "try:\n",
        "    # Load the JSON without keyword arguments\n",
        "    df = pd.read_json(\"dhs_report_reformatted.json\")\n",
        "    \n",
        "    # Plot total population in shelters over time\n",
        "    df[\"date_of_census\"] = pd.to_datetime(df[\"date_of_census\"])\n",
        "    df.plot(x=\"date_of_census\", \n",
        "            y=\"total_individuals_in_shelter\")\n",
        "    plt.show()\n",
        "    \n",
        "except ValueError:\n",
        "    print(\"pandas could not parse the JSON.\")\n",
        "\n",
        "'''\n",
        "<script.py> output:\n",
        "    pandas could not parse the JSON.\n",
        "'''"
      ],
      "execution_count": null,
      "outputs": []
    },
    {
      "cell_type": "markdown",
      "metadata": {
        "id": "E5jhoBvIAgsM"
      },
      "source": [
        "2. Load dhs_report_reformatted.json to a data frame with orient specified."
      ]
    },
    {
      "cell_type": "code",
      "metadata": {
        "id": "j3zi__26Aj1b"
      },
      "source": [
        "try:\n",
        "    # Load the JSON with orient specified\n",
        "    df = pd.read_json(\"dhs_report_reformatted.json\",\n",
        "                      orient=\"split\")\n",
        "    \n",
        "    # Plot total population in shelters over time\n",
        "    df[\"date_of_census\"] = pd.to_datetime(df[\"date_of_census\"])\n",
        "    df.plot(x=\"date_of_census\", \n",
        "            y=\"total_individuals_in_shelter\")\n",
        "    plt.show()\n",
        "    \n",
        "except ValueError:\n",
        "    print(\"pandas could not parse the JSON.\")"
      ],
      "execution_count": null,
      "outputs": []
    },
    {
      "cell_type": "markdown",
      "metadata": {
        "id": "yd4f6bVoAzam"
      },
      "source": [
        "Conclusion\n",
        "\n",
        "In this case, pandas could not parse the JSON at all without the orient keyword. For some other orientations, like index-oriented data, the data will load with transposed column and index names.\n",
        "\n",
        "![image.png](data:image/png;base64,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)"
      ]
    },
    {
      "cell_type": "markdown",
      "metadata": {
        "id": "I0wfb3BNBkdC"
      },
      "source": [
        "***"
      ]
    },
    {
      "cell_type": "markdown",
      "metadata": {
        "id": "MWNRO0vUBeDy"
      },
      "source": [
        "# SKIPPED API SECTION IN DATACAMP!"
      ]
    },
    {
      "cell_type": "markdown",
      "metadata": {
        "id": "4RxX_nGVBlmp"
      },
      "source": [
        "***"
      ]
    },
    {
      "cell_type": "markdown",
      "metadata": {
        "id": "GNkmzrZkBjoY"
      },
      "source": [
        "# Working with nested JSONs\n",
        "\n",
        "1. Working with nested JSONs\n",
        "\n",
        "In the previous lessons, we focused on getting data from JSON files and APIs. Now, we'll turn our attention to restructuring nested JSON data.\n",
        "2. Nested JSONs\n",
        "\n",
        "Recall that JSONs contain objects with attribute-value pairs. A JSON is nested when a value is itself an object.\n",
        "3. Nested JSONs\n",
        "\n",
        "The Yelp data has several examples of nesting.\n",
        "4. Nested JSONs\n",
        "\n",
        "The coordinates and location attributes have objects for values.\n",
        "5. Nested JSONs\n",
        "\n",
        "Categories' values are lists of objects.\n",
        "6. Nested JSONs\n",
        "\n",
        "And these records are all nested under businesses.\n",
        "7. Nested JSONs\n",
        "\n",
        "Checking these columns in our data frame, we see dictionaries. The data would be easier to work with if nested attributes were in their own columns. Fortunately, pandas has a function to flatten nested JSONs. Unfortunately, it's in a submodule that doesn't normally load when importing pandas.\n",
        "8. pandas.io.json\n",
        "\n",
        "The pandas dot io dot JSON submodule contains functions for reading and writing JSON beyond those in the primary pandas package, but it has to be imported explicitly. We'll use its JSON normalize function to flatten nested data. JSON normalize takes a dictionary or list of dictionaries. This means that JSONs that load with pd DataFrame will load with JSON normalize. It returns a data frame. Nested attribute column names follow the default pattern attribute dot nested attribute. The dot separator interferes with pandas' dot notation for column selection, so it's advisable to specify a different separator, like underscore, with the sep argument.\n",
        "9. Loading Nested JSON Data\n",
        "\n",
        "Let's use JSON normalize to flatten nested data as we load it. We import pandas and Requests, plus JSON normalize from pandas dot io dot json. We create a variable for the API endpoint, as well as header and parameter dictionaries. Then we pass those to requests get, and isolate the data with the response's JSON method.\n",
        "10. Loading Nested JSON Data\n",
        "\n",
        "We pass the data nested under businesses to JSON normalize, specifying underscores as the separator, and assign the resulting data frame to bookstores. Printing the data frame's column names shows that nested attributes have their own columns, like coordinates underscore latitude.\n",
        "11. Deeply Nested Data\n",
        "\n",
        "Categories, however, is still nested.\n",
        "12. Deeply Nested Data\n",
        "\n",
        "There are a few approaches for deeply nested data. You may write a custom flattening function, or decide it's irrelevant to the analysis and leave it be. Another option is to use JSON normalize's record path, meta, and meta prefix arguments. Record path takes a string or list of strings of attributes to the nested data, like listing folders in a file path. Meta takes a list of higher-level attributes to include in the resulting data frame. Nested data can be flattened by passing their record paths as sub-lists. To make clear what came from where and avoid duplicate column names, specify a meta prefix.\n",
        "13. Deeply Nested Data\n",
        "\n",
        "Let's see this in action with categories. We pass the businesses data to JSON normalize, and specify the separator. We set record path to categories. We get business names, aliases, ratings and coordinates with the meta argument. To flatten coordinates, we supply sub-lists containing paths to latitude and longitude. Businesses and categories both have alias columns, so we set a meta prefix to differentiate them.\n",
        "14. Deeply Nested Data\n",
        "\n",
        "Viewing the data, we see it's totally flat, but businesses with multiple categories repeat. Depending on the use case, this may be fine, or duplicates may need to be removed.\n",
        "15. Let's practice!\n",
        "\n",
        "As you can tell, working with JSON can get quite deep. The best way to get comfortable in those depths is practice. "
      ]
    },
    {
      "cell_type": "markdown",
      "metadata": {
        "id": "5pj546ukCHim"
      },
      "source": [
        "# Flatten nested JSONs\n",
        "\n",
        "A feature of JSON data is that it can be nested: an attribute's value can consist of attribute-value pairs. This nested data is more useful unpacked, or flattened, into its own data frame columns. The pandas.io.json submodule has a function, json_normalize(), that does exactly this.\n",
        "\n",
        "The Yelp API response data is nested. Your job is to flatten out the next level of data in the coordinates and location columns.\n",
        "\n",
        "pandas (as pd) and requests have been imported. The results of the API call are stored as response.\n",
        "\n",
        "Instructions\n",
        "\n",
        "1. Load the json_normalize() function from pandas' io.json submodule.\n",
        "\n",
        "2. Isolate the JSON data from response and assign it to data.\n",
        "\n",
        "3. Use json_normalize() to flatten and load the businesses data to a data frame, cafes. Set the sep argument to use underscores (_), rather than periods.\n",
        "\n",
        "4. Show the data head.\n"
      ]
    },
    {
      "cell_type": "code",
      "metadata": {
        "id": "L5WsfxKUEDKo"
      },
      "source": [
        "# Load json_normalize()\n",
        "from pandas.io.json import json_normalize\n",
        "\n",
        "# Isolate the JSON data from the API response\n",
        "data = response.json()\n",
        "\n",
        "# Flatten business data into a data frame, replace separator\n",
        "cafes = json_normalize(data[\"businesses\"],\n",
        "             sep='_')\n",
        "\n",
        "# View data\n",
        "print(cafes.head())\n",
        "\n",
        "'''\n",
        "\n",
        "<script.py> output:\n",
        "                             alias                                         categories  coordinates_latitude  coordinates_longitude   display_phone  ...  price rating review_count  transactions  \\\n",
        "    0       white-noise-brooklyn-2     [{'alias': 'coffee', 'title': 'Coffee & Tea'}]             40.689358             -73.988415                  ...    NaN    4.5           15            []   \n",
        "    1          devocion-brooklyn-3  [{'alias': 'coffee', 'title': 'Coffee & Tea'},...             40.688570             -73.983340  (718) 285-6180  ...     $$    4.0           73            []   \n",
        "    2   coffee-project-ny-new-york     [{'alias': 'coffee', 'title': 'Coffee & Tea'}]             40.726990             -73.989220  (212) 228-7888  ...     $$    4.5          630            []   \n",
        "    3  spreadhouse-cafe-new-york-3  [{'alias': 'cafes', 'title': 'Cafes'}, {'alias...             40.718910             -73.985850  (646) 524-6353  ...      $    4.0          380            []   \n",
        "    4             usagi-ny-dumbo-7  [{'alias': 'bookstores', 'title': 'Bookstores'...             40.703830             -73.986910  (718) 801-8037  ...     $$    4.5           57            []   \n",
        "    \n",
        "                                                     url  \n",
        "    0  https://www.yelp.com/biz/white-noise-brooklyn-...  \n",
        "    1  https://www.yelp.com/biz/devocion-brooklyn-3?a...  \n",
        "    2  https://www.yelp.com/biz/coffee-project-ny-new...  \n",
        "    3  https://www.yelp.com/biz/spreadhouse-cafe-new-...  \n",
        "    4  https://www.yelp.com/biz/usagi-ny-dumbo-7?adju...  \n",
        "    \n",
        "    [5 rows x 24 columns]\n",
        "In [1]:\n",
        "'''"
      ],
      "execution_count": null,
      "outputs": []
    },
    {
      "cell_type": "markdown",
      "metadata": {
        "id": "WSMfGberFBud"
      },
      "source": [
        "Conclusion\n",
        "\n",
        "Nice! Notice that by accessing data['businesses'] we're already working one level down the nested structure. data itself could be flattened with json_normalize()."
      ]
    },
    {
      "cell_type": "markdown",
      "metadata": {
        "id": "NA9Ly0eYFFQm"
      },
      "source": [
        "# Handle deeply nested data\n",
        "\n",
        "Last exercise, you flattened data nested down one level. Here, you'll unpack more deeply nested data.\n",
        "\n",
        "The categories attribute in the Yelp API response contains lists of objects. To flatten this data, you'll employ json_normalize() arguments to specify the path to categories and pick other attributes to include in the data frame. You should also change the separator to facilitate column selection and prefix the other attributes to prevent column name collisions. We'll work through this in steps.\n",
        "\n",
        "pandas (as pd) and json_normalize() have been imported. JSON-formatted Yelp data on cafes in NYC is stored as data.\n",
        "\n",
        "Instructions\n",
        "\n",
        "1. Use json_normalize() to flatten records under the businesses key in data, setting underscores (_) as separators.\n"
      ]
    },
    {
      "cell_type": "code",
      "metadata": {
        "id": "UdftJhLeFYg9"
      },
      "source": [
        "# Flatten businesses records and set underscore separators\n",
        "flat_cafes = json_normalize(data[\"businesses\"],\n",
        "                  sep='_')\n",
        "\n",
        "# View the data\n",
        "print(flat_cafes.head())\n",
        "\n",
        "'''\n",
        "\n",
        "<script.py> output:\n",
        "                             alias                                         categories  coordinates_latitude  coordinates_longitude   display_phone  ...  price rating review_count  transactions  \\\n",
        "    0       white-noise-brooklyn-2     [{'alias': 'coffee', 'title': 'Coffee & Tea'}]             40.689358             -73.988415                  ...    NaN    4.5           15            []   \n",
        "    1          devocion-brooklyn-3  [{'alias': 'coffee', 'title': 'Coffee & Tea'},...             40.688570             -73.983340  (718) 285-6180  ...     $$    4.0           73            []   \n",
        "    2   coffee-project-ny-new-york     [{'alias': 'coffee', 'title': 'Coffee & Tea'}]             40.726990             -73.989220  (212) 228-7888  ...     $$    4.5          630            []   \n",
        "    3  spreadhouse-cafe-new-york-3  [{'alias': 'cafes', 'title': 'Cafes'}, {'alias...             40.718910             -73.985850  (646) 524-6353  ...      $    4.0          380            []   \n",
        "    4             usagi-ny-dumbo-7  [{'alias': 'bookstores', 'title': 'Bookstores'...             40.703830             -73.986910  (718) 801-8037  ...     $$    4.5           57            []   \n",
        "    \n",
        "                                                     url  \n",
        "    0  https://www.yelp.com/biz/white-noise-brooklyn-...  \n",
        "    1  https://www.yelp.com/biz/devocion-brooklyn-3?a...  \n",
        "    2  https://www.yelp.com/biz/coffee-project-ny-new...  \n",
        "    3  https://www.yelp.com/biz/spreadhouse-cafe-new-...  \n",
        "    4  https://www.yelp.com/biz/usagi-ny-dumbo-7?adju...  \n",
        "    \n",
        "    [5 rows x 24 columns]\n",
        "'''"
      ],
      "execution_count": null,
      "outputs": []
    },
    {
      "cell_type": "markdown",
      "metadata": {
        "id": "zCWNq2DkFn_g"
      },
      "source": [
        "2. Specify the record_path to the categories data."
      ]
    },
    {
      "cell_type": "code",
      "metadata": {
        "id": "s7V3rzbUFsFL"
      },
      "source": [
        "# Specify record path to get categories data\n",
        "flat_cafes = json_normalize(data[\"businesses\"],\n",
        "                            sep=\"_\",\n",
        "                    \t\trecord_path=\"categories\")\n",
        "\n",
        "# View the data\n",
        "print(flat_cafes.head())\n",
        "\n",
        "'''\n",
        "<script.py> output:\n",
        "                  alias              title\n",
        "    0            coffee       Coffee & Tea\n",
        "    1            coffee       Coffee & Tea\n",
        "    2  coffeeroasteries  Coffee Roasteries\n",
        "    3             cafes              Cafes\n",
        "    4            coffee       Coffee & Tea\n",
        "'''"
      ],
      "execution_count": null,
      "outputs": []
    },
    {
      "cell_type": "markdown",
      "metadata": {
        "id": "fJfLZKksGErg"
      },
      "source": [
        "3. Set the meta keyword argument to get business name, alias, rating, and the attributes nested under coordinates: latitude and longitude.\n",
        "\n",
        "4. Add \"biz_\" as a meta_prefix to prevent duplicate column names.\n"
      ]
    },
    {
      "cell_type": "code",
      "metadata": {
        "id": "kp0Z-p5eHFr4"
      },
      "source": [
        "# Load other business attributes and set meta prefix\n",
        "flat_cafes = json_normalize(data[\"businesses\"],\n",
        "                            sep=\"_\",\n",
        "                    \t\trecord_path=\"categories\",\n",
        "                    \t\tmeta=[\"name\", \n",
        "                                  \"alias\",  \n",
        "                                  \"rating\",\n",
        "                          \t\t  [\"coordinates\", \"latitude\"], \n",
        "                          \t\t  [\"coordinates\", \"longitude\"]],\n",
        "                    \t\tmeta_prefix=\"biz_\")\n",
        "\n",
        "# View the data\n",
        "print(flat_cafes.head())\n",
        "\n",
        "'''\n",
        "<script.py> output:\n",
        "                  alias              title           biz_name                   biz_alias  biz_rating  biz_coordinates_latitude  biz_coordinates_longitude\n",
        "    0            coffee       Coffee & Tea        White Noise      white-noise-brooklyn-2         4.5                 40.689358                 -73.988415\n",
        "    1            coffee       Coffee & Tea           Devocion         devocion-brooklyn-3         4.0                 40.688570                 -73.983340\n",
        "    2  coffeeroasteries  Coffee Roasteries           Devocion         devocion-brooklyn-3         4.0                 40.688570                 -73.983340\n",
        "    3             cafes              Cafes           Devocion         devocion-brooklyn-3         4.0                 40.688570                 -73.983340\n",
        "    4            coffee       Coffee & Tea  Coffee Project NY  coffee-project-ny-new-york         4.5                 40.726990                 -73.989220\n",
        "'''"
      ],
      "execution_count": null,
      "outputs": []
    },
    {
      "cell_type": "markdown",
      "metadata": {
        "id": "JRKfme2HHdFT"
      },
      "source": [
        "Conclusion\n",
        "\n",
        "Great job! Naming meta columns can get tedious for datasets with many attributes, and code is susceptible to breaking if column names or nesting levels change. In such cases, you may have to write a custom function and employ techniques like recursion to handle the data."
      ]
    }
  ]
}