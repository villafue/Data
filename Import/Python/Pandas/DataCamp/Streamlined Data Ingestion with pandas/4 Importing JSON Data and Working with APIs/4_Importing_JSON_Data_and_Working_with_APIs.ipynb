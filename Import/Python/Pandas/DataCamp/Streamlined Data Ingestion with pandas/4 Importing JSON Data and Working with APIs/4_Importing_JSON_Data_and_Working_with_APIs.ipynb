{
  "nbformat": 4,
  "nbformat_minor": 0,
  "metadata": {
    "colab": {
      "name": " 4 Importing JSON Data and Working with APIs.ipynb",
      "provenance": [],
      "authorship_tag": "ABX9TyNmDpZHANdK0AbzwdQzEMM8",
      "include_colab_link": true
    },
    "kernelspec": {
      "name": "python3",
      "display_name": "Python 3"
    },
    "language_info": {
      "name": "python"
    }
  },
  "cells": [
    {
      "cell_type": "markdown",
      "metadata": {
        "id": "view-in-github",
        "colab_type": "text"
      },
      "source": [
        "<a href=\"https://colab.research.google.com/github/villafue/Data/blob/main/Import/Python/Pandas/DataCamp/Streamlined%20Data%20Ingestion%20with%20pandas/4%20Importing%20JSON%20Data%20and%20Working%20with%20APIs/4_Importing_JSON_Data_and_Working_with_APIs.ipynb\" target=\"_parent\"><img src=\"https://colab.research.google.com/assets/colab-badge.svg\" alt=\"Open In Colab\"/></a>"
      ]
    },
    {
      "cell_type": "markdown",
      "metadata": {
        "id": "VtJGbCOJ9rnE"
      },
      "source": [
        "# Importing JSON Data and Working with APIs\n",
        "\n",
        "Learn how to work with JSON data and web APIs by exploring a public dataset and getting cafe recommendations from Yelp. End by learning some techniques to combine datasets once they have been loaded into data frames. \n"
      ]
    },
    {
      "cell_type": "markdown",
      "metadata": {
        "id": "_lcA3Mwy9rbQ"
      },
      "source": [
        ""
      ]
    },
    {
      "cell_type": "code",
      "metadata": {
        "id": "-0bc3MKZ9nmm"
      },
      "source": [
        ""
      ],
      "execution_count": null,
      "outputs": []
    }
  ]
}